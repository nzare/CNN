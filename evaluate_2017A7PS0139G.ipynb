{
  "nbformat": 4,
  "nbformat_minor": 0,
  "metadata": {
    "colab": {
      "name": "evaluate-2017A7PS0139G.ipynb",
      "provenance": []
    },
    "kernelspec": {
      "name": "python3",
      "display_name": "Python 3"
    }
  },
  "cells": [
    {
      "cell_type": "code",
      "metadata": {
        "id": "iLrMjKLcDbva",
        "colab_type": "code",
        "colab": {}
      },
      "source": [
        "import cv2\n",
        "import os\n",
        "import numpy as np\n",
        "import matplotlib.pyplot as plt\n",
        "from matplotlib import image\n",
        "import pandas as pd\n",
        "import warnings\n",
        "warnings.filterwarnings('ignore')\n",
        "from keras.utils import np_utils\n",
        "from keras.models import Sequential\n",
        "from keras.layers import Conv2D, MaxPool2D, Flatten, Dense, Dropout\n"
      ],
      "execution_count": 0,
      "outputs": []
    },
    {
      "cell_type": "code",
      "metadata": {
        "id": "yGUuHQ8fuAi7",
        "colab_type": "code",
        "colab": {}
      },
      "source": [
        "df1=pd.read_csv('test_data_file_id.csv')\n",
        "df1.reset_index(level=0,inplace=True)\n",
        "df1.head()"
      ],
      "execution_count": 0,
      "outputs": []
    },
    {
      "cell_type": "code",
      "metadata": {
        "id": "Kxe8ShinDfXp",
        "colab_type": "code",
        "colab": {}
      },
      "source": [
        "imglist1=[]\n",
        "for filename in df1['File']:\n",
        "  #print(filename)\n",
        "  img1=image.imread(filename)\n",
        "  resized1=cv2.resize(img1,(64,64))\n",
        "  data1=np.asarray(resized1)\n",
        "  imglist1.append(data1)"
      ],
      "execution_count": 0,
      "outputs": []
    },
    {
      "cell_type": "code",
      "metadata": {
        "id": "c-97DB0hDiga",
        "colab_type": "code",
        "colab": {}
      },
      "source": [
        "x_test=np.asarray(imglist1)\n",
        "x_test = x_test.reshape(x_test.shape[0], 64, 64, 3).astype('float32')\n",
        "x_test/=255"
      ],
      "execution_count": 0,
      "outputs": []
    },
    {
      "cell_type": "code",
      "metadata": {
        "id": "uNbtnXjMujgp",
        "colab_type": "code",
        "colab": {}
      },
      "source": [
        "from keras.models import load_model\n",
        "model = load_model('model-2017A7PS0139G.h5')"
      ],
      "execution_count": 0,
      "outputs": []
    },
    {
      "cell_type": "code",
      "metadata": {
        "id": "mFGjyom-Dmzx",
        "colab_type": "code",
        "colab": {}
      },
      "source": [
        "y_pred=model.predict_classes(x_test)"
      ],
      "execution_count": 0,
      "outputs": []
    },
    {
      "cell_type": "code",
      "metadata": {
        "id": "K_j0Mj8QDnXF",
        "colab_type": "code",
        "colab": {}
      },
      "source": [
        "sub=pd.DataFrame({'Id':range(1,len(y_pred)+1),'Category':y_pred})"
      ],
      "execution_count": 0,
      "outputs": []
    },
    {
      "cell_type": "code",
      "metadata": {
        "id": "qQtFK62nDq-t",
        "colab_type": "code",
        "colab": {}
      },
      "source": [
        "sub['Id']=sub['Id']+1"
      ],
      "execution_count": 0,
      "outputs": []
    },
    {
      "cell_type": "code",
      "metadata": {
        "id": "qL6RmOmsDsvV",
        "colab_type": "code",
        "colab": {}
      },
      "source": [
        "sub.to_csv('2017A7PS0139G.csv',index=False)"
      ],
      "execution_count": 0,
      "outputs": []
    }
  ]
}