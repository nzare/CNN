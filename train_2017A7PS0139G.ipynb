{
  "nbformat": 4,
  "nbformat_minor": 0,
  "metadata": {
    "colab": {
      "name": "train-2017A7PS0139G.ipynb",
      "provenance": []
    },
    "kernelspec": {
      "name": "python3",
      "display_name": "Python 3"
    }
  },
  "cells": [
    {
      "cell_type": "code",
      "metadata": {
        "id": "_pEt_ZJCBw4O",
        "colab_type": "code",
        "colab": {}
      },
      "source": [
        "import cv2"
      ],
      "execution_count": 0,
      "outputs": []
    },
    {
      "cell_type": "code",
      "metadata": {
        "id": "5t3ZtvEQB3IJ",
        "colab_type": "code",
        "colab": {}
      },
      "source": [
        "\n",
        "import os\n",
        "import numpy as np\n",
        "import matplotlib.pyplot as plt\n",
        "from matplotlib import image\n",
        "import pandas as pd\n",
        "import warnings\n",
        "warnings.filterwarnings('ignore')\n",
        "from keras.utils import np_utils\n",
        "from keras.models import Sequential\n",
        "from keras.layers import Conv2D, MaxPool2D, Flatten, Dense, Dropout\n",
        "\n"
      ],
      "execution_count": 0,
      "outputs": []
    },
    {
      "cell_type": "code",
      "metadata": {
        "id": "RwXB7qKYB9EV",
        "colab_type": "code",
        "colab": {}
      },
      "source": [
        "df=pd.read_csv('train_mappings_final.csv')\n",
        "df.reset_index(level=0,inplace=True)\n",
        "df.drop(index=0,inplace=True)\n",
        "df.head()"
      ],
      "execution_count": 0,
      "outputs": []
    },
    {
      "cell_type": "code",
      "metadata": {
        "id": "Hzw94bhKCDJy",
        "colab_type": "code",
        "colab": {}
      },
      "source": [
        "imglist=[]\n",
        "for filename in df['index']:\n",
        "  #print(filename)\n",
        "  img=image.imread(filename)\n",
        "  resized=cv2.resize(img,(64,64))\n",
        "  data=np.asarray(resized)\n",
        "  imglist.append(data)"
      ],
      "execution_count": 0,
      "outputs": []
    },
    {
      "cell_type": "code",
      "metadata": {
        "id": "d_KvJZavCFnb",
        "colab_type": "code",
        "colab": {}
      },
      "source": [
        "y_train=df['train_mappings'].values\n",
        "x_train=np.asarray(imglist)\n",
        "x_train = x_train.reshape(x_train.shape[0], 64, 64, 3).astype('float32')\n",
        "x_train/=255.0"
      ],
      "execution_count": 0,
      "outputs": []
    },
    {
      "cell_type": "code",
      "metadata": {
        "id": "JkRWMIA6CJJq",
        "colab_type": "code",
        "colab": {}
      },
      "source": [
        "y_train=np_utils.to_categorical(y_train)"
      ],
      "execution_count": 0,
      "outputs": []
    },
    {
      "cell_type": "code",
      "metadata": {
        "id": "E-jGzN5vCTim",
        "colab_type": "code",
        "colab": {}
      },
      "source": [
        "model=Sequential()\n",
        "\n",
        "model.add(Conv2D(32,(5,5),input_shape=(64,64,3),padding='same',activation='relu'))\n",
        "model.add(Dropout(0.2))\n",
        "model.add(MaxPool2D(pool_size=(2,2)))\n",
        "model.add(Conv2D(32,(5,5),input_shape=(64,64,3),padding='same',activation='relu'))\n",
        "model.add(Dropout(0.2))\n",
        "model.add(Conv2D(32,(5,5),input_shape=(64,64,3),padding='same',activation='relu'))\n",
        "model.add(Dropout(0.2))\n",
        "model.add(Conv2D(64, (3, 3), activation='relu', padding='same'))\n",
        "model.add(MaxPool2D(pool_size=(2, 2)))\n",
        "model.add(Flatten())\n",
        "model.add(Dense(256,activation='relu'))\n",
        "model.add(Dropout(0.2))\n",
        "model.add(Dense(2,activation='softmax'))\n",
        "\n",
        "model.compile(loss='categorical_crossentropy',optimizer='adam',metrics=['accuracy'])"
      ],
      "execution_count": 0,
      "outputs": []
    },
    {
      "cell_type": "code",
      "metadata": {
        "id": "4FFgmHyTCUQV",
        "colab_type": "code",
        "colab": {}
      },
      "source": [
        "hist = model.fit(x_train, y_train, batch_size=40, epochs=7)"
      ],
      "execution_count": 0,
      "outputs": []
    },
    {
      "cell_type": "code",
      "metadata": {
        "id": "5NGzeuQACWjg",
        "colab_type": "code",
        "colab": {}
      },
      "source": [
        "model_json = model.to_json()\n",
        "with open(\"model.json\", \"w\") as json_file:\n",
        "    json_file.write(model_json)\n",
        "# serialize weights to HDF5\n",
        "model.save_weights(\"model-2017A7PS0139G.h5\")"
      ],
      "execution_count": 0,
      "outputs": []
    }
  ]
}